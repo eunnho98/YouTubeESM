{
 "cells": [
  {
   "cell_type": "markdown",
   "id": "41f06799",
   "metadata": {},
   "source": [
    "# Table 4. Comparison of viewing patterns by skip direction."
   ]
  },
  {
   "cell_type": "code",
   "execution_count": 1,
   "id": "98d44edd",
   "metadata": {},
   "outputs": [],
   "source": [
    "import sys\n",
    "import os\n",
    "sys.path.append(os.path.abspath(\"..\"))\n",
    "from util import *\n",
    "\n",
    "df = getPreProcessingDF('../preProcess.xlsx')\n",
    "\n",
    "backward_only = df[\n",
    "    ((df['IsScrubbingBackward'] == True) | (df['Is10SecondsBackward'] == True)) & \n",
    "    (df['Is10SecondsForward'] == False) & \n",
    "    (df['IsScubbingForward'] == False)\n",
    "]\n",
    "\n",
    "forward_only = df[\n",
    "    ((df['IsScubbingForward'] == True) | (df['Is10SecondsForward'] == True)) & \n",
    "    (df['Is10SecondsBackward'] == False) & \n",
    "    (df['IsScrubbingBackward'] == False)\n",
    "]\n",
    "\n",
    "both = df[\n",
    "    ((df['IsScubbingForward'] == True) | (df['Is10SecondsForward'] == True)) & \n",
    "    ((df['IsScrubbingBackward'] == True) | (df['Is10SecondsBackward'] == True))\n",
    "]\n",
    "\n",
    "no_skips = df[\n",
    "    (df['Is10SecondsBackward'] == False) & \n",
    "    (df['Is10SecondsForward'] == False) & \n",
    "    (df['IsScrubbingBackward'] == False) & \n",
    "    (df['IsScubbingForward'] == False)\n",
    "]"
   ]
  },
  {
   "cell_type": "code",
   "execution_count": 2,
   "id": "8131ff4b",
   "metadata": {},
   "outputs": [
    {
     "name": "stdout",
     "output_type": "stream",
     "text": [
      "+-----------------------+-----------------+----------------+------------+------------+---------------+\n",
      "| ---                   | Backward_only   | Forward_only   | Both       | No_Skips   | Statistics    |\n",
      "|                       | (N=92)          | (N=562)        | (N=257)    | (N=1569)   |               |\n",
      "+=======================+=================+================+============+============+===============+\n",
      "| Abandonment           | N=39            | N=414          | N=169      | N=996      | p=0.0000      |\n",
      "|                       | 42.39130%       | 73.66548%      | 65.75875%  | 63.47992%  | stat=40.9471  |\n",
      "+-----------------------+-----------------+----------------+------------+------------+---------------+\n",
      "| DwellTimeRatio        | M=125.136       | M=44.688       | M=62.686   | M=60.383   | p=0.0000      |\n",
      "|                       | Mdn=107.500     | Mdn=39.350     | Mdn=56.500 | Mdn=59.100 | stat=151.2715 |\n",
      "|                       | SD=110.714      | SD=33.884      | SD=47.546  | SD=51.710  |               |\n",
      "+-----------------------+-----------------+----------------+------------+------------+---------------+\n",
      "| AbandonmentPointRatio | M=82.411        | M=73.413       | M=80.558   | M=59.411   | p=0.0000      |\n",
      "|                       | Mdn=96.800      | Mdn=84.800     | Mdn=93.300 | Mdn=71.300 | stat=64.1840  |\n",
      "|                       | SD=27.547       | SD=28.266      | SD=24.543  | SD=39.713  |               |\n",
      "+-----------------------+-----------------+----------------+------------+------------+---------------+\n",
      "| Likert                | M=5.972         | M=4.988        | M=5.516    | M=5.032    | p=0.0000      |\n",
      "|                       | Mdn=7.000       | Mdn=5.000      | Mdn=6.000  | Mdn=5.000  | stat=26.3442  |\n",
      "|                       | SD=1.383        | SD=1.597       | SD=1.501   | SD=1.514   |               |\n",
      "|                       | (N=36)          | (N=325)        | (N=128)    | (N=569)    |               |\n",
      "+-----------------------+-----------------+----------------+------------+------------+---------------+\n"
     ]
    }
   ],
   "source": [
    "getStatistics(\n",
    "    [\n",
    "        \"Abandonment\",\n",
    "        \"DwellTimeRatio\",\n",
    "        \"AbandonmentPointRatio\",\n",
    "        \"Likert\",\n",
    "    ],\n",
    "    Backward_only=backward_only,\n",
    "    Forward_only=forward_only,\n",
    "    Both=both,\n",
    "    No_Skips=no_skips\n",
    ")"
   ]
  },
  {
   "cell_type": "markdown",
   "id": "dde20382",
   "metadata": {},
   "source": [
    "## Post-hoc on Abandonment Rate"
   ]
  },
  {
   "cell_type": "code",
   "execution_count": 3,
   "id": "85a7159a",
   "metadata": {},
   "outputs": [
    {
     "name": "stdout",
     "output_type": "stream",
     "text": [
      "\n",
      "Statistically significant difference found.\n",
      "chi2 = 40.9471, p = 0.0000, dof = 3\n",
      "\n",
      "Post-hoc results (Bonferroni-corrected p-values):\n",
      "+---------------+-----------------+----------------+-----------+------------+\n",
      "|               |  Backward_only  |  Forward_only  |   Both    |   No_Skips |\n",
      "|               |     (N=92)      |    (N=562)     |  (N=257)  |   (N=1569) |\n",
      "+===============+=================+================+===========+============+\n",
      "| Backward_only |       nan       |       \u001b[31m0\u001b[0m        |  \u001b[31m0.0009\u001b[0m   |     \u001b[31m0.0005\u001b[0m |\n",
      "|    (N=92)     |                 |                |           |            |\n",
      "+---------------+-----------------+----------------+-----------+------------+\n",
      "| Forward_only  |        \u001b[31m0\u001b[0m        |      nan       |  0.1524   |     \u001b[31m0.0001\u001b[0m |\n",
      "|    (N=562)    |                 |                |           |            |\n",
      "+---------------+-----------------+----------------+-----------+------------+\n",
      "|     Both      |     \u001b[31m0.0009\u001b[0m      |     0.1524     |    nan    |     1      |\n",
      "|    (N=257)    |                 |                |           |            |\n",
      "+---------------+-----------------+----------------+-----------+------------+\n",
      "|   No_Skips    |     \u001b[31m0.0005\u001b[0m      |     \u001b[31m0.0001\u001b[0m     |     1     |   nan      |\n",
      "|   (N=1569)    |                 |                |           |            |\n",
      "+---------------+-----------------+----------------+-----------+------------+\n"
     ]
    }
   ],
   "source": [
    "compareAbandonRate(\n",
    "    Backward_only=backward_only, Forward_only=forward_only, Both=both, No_Skips=no_skips\n",
    ")"
   ]
  },
  {
   "cell_type": "markdown",
   "id": "a12fc97e",
   "metadata": {},
   "source": [
    "## Post-hoc on Dwell Time"
   ]
  },
  {
   "cell_type": "code",
   "execution_count": 4,
   "id": "d392f348",
   "metadata": {},
   "outputs": [
    {
     "name": "stdout",
     "output_type": "stream",
     "text": [
      "Statistically significant difference found.\n",
      "H = 151.2715, p = 0.0000\n",
      "+---------------+-----------------+----------------+--------+------------+\n",
      "|               |   Backward_only |   Forward_only |   Both |   No_Skips |\n",
      "+===============+=================+================+========+============+\n",
      "| Backward_only |               1 |              \u001b[31m0\u001b[0m |      \u001b[31m0\u001b[0m |          \u001b[31m0\u001b[0m |\n",
      "+---------------+-----------------+----------------+--------+------------+\n",
      "| Forward_only  |               \u001b[31m0\u001b[0m |              1 |      \u001b[31m0\u001b[0m |          \u001b[31m0\u001b[0m |\n",
      "+---------------+-----------------+----------------+--------+------------+\n",
      "| Both          |               \u001b[31m0\u001b[0m |              \u001b[31m0\u001b[0m |      1 |          1 |\n",
      "+---------------+-----------------+----------------+--------+------------+\n",
      "| No_Skips      |               \u001b[31m0\u001b[0m |              \u001b[31m0\u001b[0m |      1 |          1 |\n",
      "+---------------+-----------------+----------------+--------+------------+\n"
     ]
    },
    {
     "name": "stderr",
     "output_type": "stream",
     "text": [
      "c:\\Users\\KHU\\Desktop\\Research\\Youtube\\데이터 정리\\util.py:168: FutureWarning: DataFrame.applymap has been deprecated. Use DataFrame.map instead.\n",
      "  dunn_result = dunn_result.applymap(\n"
     ]
    }
   ],
   "source": [
    "kruskalTest(\n",
    "    \"DwellTimeRatio\",\n",
    "    Backward_only=backward_only,\n",
    "    Forward_only=forward_only,\n",
    "    Both=both,\n",
    "    No_Skips=no_skips,\n",
    ")"
   ]
  },
  {
   "cell_type": "markdown",
   "id": "a14ea095",
   "metadata": {},
   "source": [
    "## Post-hoc on Abandonment Point"
   ]
  },
  {
   "cell_type": "code",
   "execution_count": 5,
   "id": "25952e4c",
   "metadata": {},
   "outputs": [
    {
     "name": "stdout",
     "output_type": "stream",
     "text": [
      "Statistically significant difference found.\n",
      "H = 64.1840, p = 0.0000\n",
      "+---------------+-----------------+----------------+--------+------------+\n",
      "|               |   Backward_only |   Forward_only |   Both |   No_Skips |\n",
      "+===============+=================+================+========+============+\n",
      "| Backward_only |          1      |         \u001b[31m0.0128\u001b[0m | 1      |     \u001b[31m0\u001b[0m      |\n",
      "+---------------+-----------------+----------------+--------+------------+\n",
      "| Forward_only  |          \u001b[31m0.0128\u001b[0m |         1      | \u001b[31m0.0325\u001b[0m |     \u001b[31m0.0003\u001b[0m |\n",
      "+---------------+-----------------+----------------+--------+------------+\n",
      "| Both          |          1      |         \u001b[31m0.0325\u001b[0m | 1      |     \u001b[31m0\u001b[0m      |\n",
      "+---------------+-----------------+----------------+--------+------------+\n",
      "| No_Skips      |          \u001b[31m0\u001b[0m      |         \u001b[31m0.0003\u001b[0m | \u001b[31m0\u001b[0m      |     1      |\n",
      "+---------------+-----------------+----------------+--------+------------+\n"
     ]
    },
    {
     "name": "stderr",
     "output_type": "stream",
     "text": [
      "c:\\Users\\KHU\\Desktop\\Research\\Youtube\\데이터 정리\\util.py:168: FutureWarning: DataFrame.applymap has been deprecated. Use DataFrame.map instead.\n",
      "  dunn_result = dunn_result.applymap(\n"
     ]
    }
   ],
   "source": [
    "kruskalTest(\n",
    "    \"AbandonmentPointRatio\",\n",
    "    Backward_only=backward_only,\n",
    "    Forward_only=forward_only,\n",
    "    Both=both,\n",
    "    No_Skips=no_skips,\n",
    ")"
   ]
  },
  {
   "cell_type": "markdown",
   "id": "84ff549f",
   "metadata": {},
   "source": [
    "## Post-hoc on Satisfaction"
   ]
  },
  {
   "cell_type": "code",
   "execution_count": 6,
   "id": "c3faf34f",
   "metadata": {},
   "outputs": [
    {
     "name": "stdout",
     "output_type": "stream",
     "text": [
      "Statistically significant difference found.\n",
      "H = 26.3442, p = 0.0000\n",
      "+---------------+-----------------+----------------+--------+------------+\n",
      "|               |   Backward_only |   Forward_only |   Both |   No_Skips |\n",
      "+===============+=================+================+========+============+\n",
      "| Backward_only |          1      |         \u001b[31m0.0008\u001b[0m | 0.5023 |     \u001b[31m0.0007\u001b[0m |\n",
      "+---------------+-----------------+----------------+--------+------------+\n",
      "| Forward_only  |          \u001b[31m0.0008\u001b[0m |         1      | \u001b[31m0.0058\u001b[0m |     1      |\n",
      "+---------------+-----------------+----------------+--------+------------+\n",
      "| Both          |          0.5023 |         \u001b[31m0.0058\u001b[0m | 1      |     \u001b[31m0.0036\u001b[0m |\n",
      "+---------------+-----------------+----------------+--------+------------+\n",
      "| No_Skips      |          \u001b[31m0.0007\u001b[0m |         1      | \u001b[31m0.0036\u001b[0m |     1      |\n",
      "+---------------+-----------------+----------------+--------+------------+\n"
     ]
    },
    {
     "name": "stderr",
     "output_type": "stream",
     "text": [
      "c:\\Users\\KHU\\Desktop\\Research\\Youtube\\데이터 정리\\util.py:168: FutureWarning: DataFrame.applymap has been deprecated. Use DataFrame.map instead.\n",
      "  dunn_result = dunn_result.applymap(\n"
     ]
    }
   ],
   "source": [
    "kruskalTest(\n",
    "    \"Likert\",\n",
    "    Backward_only=backward_only,\n",
    "    Forward_only=forward_only,\n",
    "    Both=both,\n",
    "    No_Skips=no_skips,\n",
    ")"
   ]
  }
 ],
 "metadata": {
  "kernelspec": {
   "display_name": "py9",
   "language": "python",
   "name": "python3"
  },
  "language_info": {
   "codemirror_mode": {
    "name": "ipython",
    "version": 3
   },
   "file_extension": ".py",
   "mimetype": "text/x-python",
   "name": "python",
   "nbconvert_exporter": "python",
   "pygments_lexer": "ipython3",
   "version": "3.9.21"
  }
 },
 "nbformat": 4,
 "nbformat_minor": 5
}
