{
 "cells": [
  {
   "cell_type": "markdown",
   "id": "d30e5672",
   "metadata": {},
   "source": [
    "# Table 3. Comparison of viewing patterns by skip type."
   ]
  },
  {
   "cell_type": "code",
   "execution_count": null,
   "id": "c53868f7",
   "metadata": {},
   "outputs": [],
   "source": [
    "from util import *\n",
    "\n",
    "df = getPreProcessingDF('../preProcess.xlsx')\n",
    "\n",
    "ten_second_skip_only = df[\n",
    "    ((df['Is10SecondsBackward'] == True) | (df['Is10SecondsForward'] == True)) & \n",
    "    (df['IsScrubbingBackward'] == False) & \n",
    "    (df['IsScubbingForward'] == False)\n",
    "]\n",
    "\n",
    "scrubbing_only = df[\n",
    "    ((df['IsScrubbingBackward'] == True) | (df['IsScubbingForward'] == True)) & \n",
    "    (df['Is10SecondsBackward'] == False) & \n",
    "    (df['Is10SecondsForward'] == False)\n",
    "]\n",
    "\n",
    "both = df[\n",
    "    ((df['Is10SecondsBackward'] == True) | (df['Is10SecondsForward'] == True)) & \n",
    "    ((df['IsScrubbingBackward'] == True) | (df['IsScubbingForward'] == True))\n",
    "]\n",
    "\n",
    "no_skips = df[\n",
    "    (df['Is10SecondsBackward'] == False) & \n",
    "    (df['Is10SecondsForward'] == False) & \n",
    "    (df['IsScrubbingBackward'] == False) & \n",
    "    (df['IsScubbingForward'] == False)\n",
    "]"
   ]
  },
  {
   "cell_type": "code",
   "execution_count": 8,
   "id": "a53edb9c",
   "metadata": {},
   "outputs": [
    {
     "name": "stdout",
     "output_type": "stream",
     "text": [
      "+-----------------------+------------------------+------------------+------------+------------+--------------+\n",
      "| ---                   | Ten_Second_Skip_Only   | Scrubbing_Only   | Both       | No_Skips   | Statistics   |\n",
      "|                       | (N=603)                | (N=141)          | (N=167)    | (N=1569)   |              |\n",
      "+=======================+========================+==================+============+============+==============+\n",
      "| Abandonment           | N=399                  | N=103            | N=120      | N=996      | p=0.0245     |\n",
      "|                       | 66.16915%              | 73.04965%        | 71.85629%  | 63.47992%  | stat=9.3890  |\n",
      "+-----------------------+------------------------+------------------+------------+------------+--------------+\n",
      "| DwellTimeRatio        | M=62.079               | M=45.499         | M=53.225   | M=60.383   | p=0.0000     |\n",
      "|                       | Mdn=57.800             | Mdn=17.200       | Mdn=35.400 | Mdn=59.100 | stat=42.8158 |\n",
      "|                       | SD=40.678              | SD=63.981        | SD=86.882  | SD=51.710  |              |\n",
      "+-----------------------+------------------------+------------------+------------+------------+--------------+\n",
      "| AbandonmentPointRatio | M=75.250               | M=73.667         | M=82.518   | M=59.411   | p=0.0000     |\n",
      "|                       | Mdn=89.800             | Mdn=84.600       | Mdn=91.600 | Mdn=71.300 | stat=53.5320 |\n",
      "|                       | SD=28.876              | SD=26.975        | SD=20.870  | SD=39.713  |              |\n",
      "+-----------------------+------------------------+------------------+------------+------------+--------------+\n",
      "| Likert                | M=5.397                | M=4.452          | M=4.978    | M=5.032    | p=0.0002     |\n",
      "|                       | Mdn=6.000              | Mdn=5.000        | Mdn=5.000  | Mdn=5.000  | stat=20.0356 |\n",
      "|                       | SD=1.406               | SD=1.861         | SD=1.828   | SD=1.514   |              |\n",
      "|                       | (N=335)                | (N=62)           | (N=92)     | (N=569)    |              |\n",
      "+-----------------------+------------------------+------------------+------------+------------+--------------+\n"
     ]
    }
   ],
   "source": [
    "getStatistics(\n",
    "    [\n",
    "        \"Abandonment\",\n",
    "        \"DwellTimeRatio\",\n",
    "        \"AbandonmentPointRatio\",\n",
    "        \"Likert\",\n",
    "    ],\n",
    "    Ten_Second_Skip_Only=ten_second_skip_only,\n",
    "    Scrubbing_Only=scrubbing_only,\n",
    "    Both=both,\n",
    "    No_Skips=no_skips\n",
    ")"
   ]
  },
  {
   "cell_type": "markdown",
   "id": "17fac01c",
   "metadata": {},
   "source": [
    "## Post-hoc on Abandonment Rate"
   ]
  },
  {
   "cell_type": "code",
   "execution_count": 9,
   "id": "ecfabf56",
   "metadata": {},
   "outputs": [
    {
     "name": "stdout",
     "output_type": "stream",
     "text": [
      "\n",
      "Statistically significant difference found.\n",
      "chi2 = 9.3890, p = 0.0245, dof = 3\n",
      "\n",
      "Post-hoc results (Bonferroni-corrected p-values):\n",
      "+----------------------+------------------------+------------------+-----------+------------+\n",
      "|                      |  Ten_Second_Skip_Only  |  Scrubbing_Only  |   Both    |   No_Skips |\n",
      "|                      |        (N=603)         |     (N=141)      |  (N=167)  |   (N=1569) |\n",
      "+======================+========================+==================+===========+============+\n",
      "| Ten_Second_Skip_Only |          nan           |      0.849       |     1     |     1      |\n",
      "|       (N=603)        |                        |                  |           |            |\n",
      "+----------------------+------------------------+------------------+-----------+------------+\n",
      "|    Scrubbing_Only    |         0.849          |       nan        |     1     |     0.1757 |\n",
      "|       (N=141)        |                        |                  |           |            |\n",
      "+----------------------+------------------------+------------------+-----------+------------+\n",
      "|         Both         |           1            |        1         |    nan    |     0.2348 |\n",
      "|       (N=167)        |                        |                  |           |            |\n",
      "+----------------------+------------------------+------------------+-----------+------------+\n",
      "|       No_Skips       |           1            |      0.1757      |  0.2348   |   nan      |\n",
      "|       (N=1569)       |                        |                  |           |            |\n",
      "+----------------------+------------------------+------------------+-----------+------------+\n"
     ]
    }
   ],
   "source": [
    "compareAbandonRate(    Ten_Second_Skip_Only=ten_second_skip_only,\n",
    "    Scrubbing_Only=scrubbing_only,\n",
    "    Both=both,\n",
    "    No_Skips=no_skips)"
   ]
  },
  {
   "cell_type": "markdown",
   "id": "371ecaf7",
   "metadata": {},
   "source": [
    "## Post-hoc on Dwell Time"
   ]
  },
  {
   "cell_type": "code",
   "execution_count": 10,
   "id": "5bab0d92",
   "metadata": {},
   "outputs": [
    {
     "name": "stdout",
     "output_type": "stream",
     "text": [
      "Statistically significant difference found.\n",
      "H = 42.8158, p = 0.0000\n",
      "+----------------------+------------------------+------------------+--------+------------+\n",
      "|                      |   Ten_Second_Skip_Only |   Scrubbing_Only |   Both |   No_Skips |\n",
      "+======================+========================+==================+========+============+\n",
      "| Ten_Second_Skip_Only |                 1      |           \u001b[31m0\u001b[0m      | \u001b[31m0.0009\u001b[0m |     0.4207 |\n",
      "+----------------------+------------------------+------------------+--------+------------+\n",
      "| Scrubbing_Only       |                 \u001b[31m0\u001b[0m      |           1      | 0.3855 |     \u001b[31m0\u001b[0m      |\n",
      "+----------------------+------------------------+------------------+--------+------------+\n",
      "| Both                 |                 \u001b[31m0.0009\u001b[0m |           0.3855 | 1      |     \u001b[31m0.0157\u001b[0m |\n",
      "+----------------------+------------------------+------------------+--------+------------+\n",
      "| No_Skips             |                 0.4207 |           \u001b[31m0\u001b[0m      | \u001b[31m0.0157\u001b[0m |     1      |\n",
      "+----------------------+------------------------+------------------+--------+------------+\n"
     ]
    },
    {
     "name": "stderr",
     "output_type": "stream",
     "text": [
      "c:\\Users\\KHU\\Desktop\\Research\\Youtube\\Data\\Analysis\\util.py:166: FutureWarning: DataFrame.applymap has been deprecated. Use DataFrame.map instead.\n",
      "  dunn_result = dunn_result.applymap(\n"
     ]
    }
   ],
   "source": [
    "kruskalTest('DwellTimeRatio',     Ten_Second_Skip_Only=ten_second_skip_only,\n",
    "    Scrubbing_Only=scrubbing_only,\n",
    "    Both=both,\n",
    "    No_Skips=no_skips\n",
    "    )"
   ]
  },
  {
   "cell_type": "markdown",
   "id": "fb950b75",
   "metadata": {},
   "source": [
    "## Post-hoc on Abandonment Point"
   ]
  },
  {
   "cell_type": "code",
   "execution_count": 11,
   "id": "d37b435f",
   "metadata": {},
   "outputs": [
    {
     "name": "stdout",
     "output_type": "stream",
     "text": [
      "Statistically significant difference found.\n",
      "H = 53.5320, p = 0.0000\n",
      "+----------------------+------------------------+------------------+--------+------------+\n",
      "|                      |   Ten_Second_Skip_Only |   Scrubbing_Only |   Both |   No_Skips |\n",
      "+======================+========================+==================+========+============+\n",
      "| Ten_Second_Skip_Only |                      1 |           1      | 1      |     \u001b[31m0\u001b[0m      |\n",
      "+----------------------+------------------------+------------------+--------+------------+\n",
      "| Scrubbing_Only       |                      1 |           1      | 0.3775 |     0.1689 |\n",
      "+----------------------+------------------------+------------------+--------+------------+\n",
      "| Both                 |                      1 |           0.3775 | 1      |     \u001b[31m0\u001b[0m      |\n",
      "+----------------------+------------------------+------------------+--------+------------+\n",
      "| No_Skips             |                      \u001b[31m0\u001b[0m |           0.1689 | \u001b[31m0\u001b[0m      |     1      |\n",
      "+----------------------+------------------------+------------------+--------+------------+\n"
     ]
    },
    {
     "name": "stderr",
     "output_type": "stream",
     "text": [
      "c:\\Users\\KHU\\Desktop\\Research\\Youtube\\Data\\Analysis\\util.py:166: FutureWarning: DataFrame.applymap has been deprecated. Use DataFrame.map instead.\n",
      "  dunn_result = dunn_result.applymap(\n"
     ]
    }
   ],
   "source": [
    "kruskalTest('AbandonmentPointRatio',     Ten_Second_Skip_Only=ten_second_skip_only,\n",
    "    Scrubbing_Only=scrubbing_only,\n",
    "    Both=both,\n",
    "    No_Skips=no_skips\n",
    "    )"
   ]
  },
  {
   "cell_type": "markdown",
   "id": "cf2a3dca",
   "metadata": {},
   "source": [
    "## Post-hoc on Satisfaction"
   ]
  },
  {
   "cell_type": "code",
   "execution_count": 12,
   "id": "4d063c8e",
   "metadata": {},
   "outputs": [
    {
     "name": "stdout",
     "output_type": "stream",
     "text": [
      "Statistically significant difference found.\n",
      "H = 20.0356, p = 0.0002\n",
      "+----------------------+------------------------+------------------+--------+------------+\n",
      "|                      |   Ten_Second_Skip_Only |   Scrubbing_Only |   Both |   No_Skips |\n",
      "+======================+========================+==================+========+============+\n",
      "| Ten_Second_Skip_Only |                 1      |           \u001b[31m0.0009\u001b[0m | 0.5018 |     \u001b[31m0.0037\u001b[0m |\n",
      "+----------------------+------------------------+------------------+--------+------------+\n",
      "| Scrubbing_Only       |                 \u001b[31m0.0009\u001b[0m |           1      | 0.3026 |     0.1833 |\n",
      "+----------------------+------------------------+------------------+--------+------------+\n",
      "| Both                 |                 0.5018 |           0.3026 | 1      |     1      |\n",
      "+----------------------+------------------------+------------------+--------+------------+\n",
      "| No_Skips             |                 \u001b[31m0.0037\u001b[0m |           0.1833 | 1      |     1      |\n",
      "+----------------------+------------------------+------------------+--------+------------+\n"
     ]
    },
    {
     "name": "stderr",
     "output_type": "stream",
     "text": [
      "c:\\Users\\KHU\\Desktop\\Research\\Youtube\\Data\\Analysis\\util.py:166: FutureWarning: DataFrame.applymap has been deprecated. Use DataFrame.map instead.\n",
      "  dunn_result = dunn_result.applymap(\n"
     ]
    }
   ],
   "source": [
    "kruskalTest('Likert',     Ten_Second_Skip_Only=ten_second_skip_only,\n",
    "    Scrubbing_Only=scrubbing_only,\n",
    "    Both=both,\n",
    "    No_Skips=no_skips\n",
    "    )"
   ]
  },
  {
   "cell_type": "code",
   "execution_count": null,
   "id": "37070a9d",
   "metadata": {},
   "outputs": [],
   "source": []
  }
 ],
 "metadata": {
  "kernelspec": {
   "display_name": "py9",
   "language": "python",
   "name": "python3"
  },
  "language_info": {
   "codemirror_mode": {
    "name": "ipython",
    "version": 3
   },
   "file_extension": ".py",
   "mimetype": "text/x-python",
   "name": "python",
   "nbconvert_exporter": "python",
   "pygments_lexer": "ipython3",
   "version": "3.9.21"
  }
 },
 "nbformat": 4,
 "nbformat_minor": 5
}
