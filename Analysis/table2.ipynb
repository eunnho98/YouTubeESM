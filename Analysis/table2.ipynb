{
 "cells": [
  {
   "cell_type": "markdown",
   "id": "3d0b0044",
   "metadata": {},
   "source": [
    "# Table 2. Comparison of viewing patterns by skip usage."
   ]
  },
  {
   "cell_type": "code",
   "execution_count": 1,
   "id": "cda4efc7",
   "metadata": {},
   "outputs": [],
   "source": [
    "import sys\n",
    "import os\n",
    "sys.path.append(os.path.abspath(\"..\"))\n",
    "from util import *\n",
    "\n",
    "df = getPreProcessingDF('../preProcess.xlsx')\n",
    "\n",
    "skip_df = df[\n",
    "    (df[\"Is10SecondsBackward\"] == True)\n",
    "    | (df[\"Is10SecondsForward\"] == True)\n",
    "    | (df[\"IsScubbingForward\"] == True)\n",
    "    | (df[\"IsScrubbingBackward\"] == True)\n",
    "]\n",
    "noskip_df = df[\n",
    "    (df[\"Is10SecondsBackward\"] == False)\n",
    "    & (df[\"Is10SecondsForward\"] == False)\n",
    "    & (df[\"IsScubbingForward\"] == False)\n",
    "    & (df[\"IsScrubbingBackward\"] == False)\n",
    "]"
   ]
  },
  {
   "cell_type": "code",
   "execution_count": 2,
   "id": "c7cf3d0b",
   "metadata": {},
   "outputs": [
    {
     "name": "stdout",
     "output_type": "stream",
     "text": [
      "+-----------------------+------------+------------+--------------+\n",
      "| ---                   | Skip       | Non_Skip   | Statistics   |\n",
      "|                       | (N=911)    | (N=1569)   |              |\n",
      "+=======================+============+============+==============+\n",
      "| Abandonment           | N=622      | N=996      | p=0.0176     |\n",
      "|                       | 68.27662%  | 63.47992%  | stat=5.6382  |\n",
      "+-----------------------+------------+------------+--------------+\n",
      "| DwellTimeRatio        | M=57.889   | M=60.383   | p=0.1629     |\n",
      "|                       | Mdn=50.000 | Mdn=59.100 | stat=1.9467  |\n",
      "|                       | SD=56.043  | SD=51.710  |              |\n",
      "+-----------------------+------------+------------+--------------+\n",
      "| AbandonmentPointRatio | M=76.337   | M=59.411   | p=0.0000     |\n",
      "|                       | Mdn=88.900 | Mdn=71.300 | stat=49.9844 |\n",
      "|                       | SD=27.421  | SD=39.713  |              |\n",
      "+-----------------------+------------+------------+--------------+\n",
      "| Likert                | M=5.198    | M=5.032    | p=0.0338     |\n",
      "|                       | Mdn=5.000  | Mdn=5.000  | stat=4.5071  |\n",
      "|                       | SD=1.586   | SD=1.514   |              |\n",
      "|                       | (N=489)    | (N=569)    |              |\n",
      "+-----------------------+------------+------------+--------------+\n"
     ]
    }
   ],
   "source": [
    "getStatistics(\n",
    "    [\n",
    "        \"Abandonment\",\n",
    "        \"DwellTimeRatio\",\n",
    "        \"AbandonmentPointRatio\",\n",
    "        \"Likert\",\n",
    "    ],\n",
    "    Skip=skip_df,\n",
    "    Non_Skip=noskip_df,\n",
    ")"
   ]
  },
  {
   "cell_type": "code",
   "execution_count": null,
   "id": "7f2071a6",
   "metadata": {},
   "outputs": [],
   "source": []
  }
 ],
 "metadata": {
  "kernelspec": {
   "display_name": "py9",
   "language": "python",
   "name": "python3"
  },
  "language_info": {
   "codemirror_mode": {
    "name": "ipython",
    "version": 3
   },
   "file_extension": ".py",
   "mimetype": "text/x-python",
   "name": "python",
   "nbconvert_exporter": "python",
   "pygments_lexer": "ipython3",
   "version": "3.9.21"
  }
 },
 "nbformat": 4,
 "nbformat_minor": 5
}
