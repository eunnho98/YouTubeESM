{
 "cells": [
  {
   "cell_type": "markdown",
   "id": "48076bb2",
   "metadata": {},
   "source": [
    "# Table 5. Comparison of viewing patterns by playback speed adjustment usage."
   ]
  },
  {
   "cell_type": "code",
   "execution_count": 3,
   "id": "85f92559",
   "metadata": {},
   "outputs": [],
   "source": [
    "from util import *\n",
    "\n",
    "df = getPreProcessingDF('../preProcess.xlsx', only_speed_adjustment=True)\n",
    "\n",
    "adjusted = df[df['Speed'] == True]\n",
    "Non_adjusted = df[df['Speed'] == False]"
   ]
  },
  {
   "cell_type": "code",
   "execution_count": 4,
   "id": "f6d56055",
   "metadata": {},
   "outputs": [
    {
     "name": "stdout",
     "output_type": "stream",
     "text": [
      "+-----------------------+------------+----------------+--------------+\n",
      "| ---                   | Adjusted   | Non_Adjusted   | Statistics   |\n",
      "|                       | (N=542)    | (N=1000)       |              |\n",
      "+=======================+============+================+==============+\n",
      "| Abandonment           | N=320      | N=667          | p=0.0033     |\n",
      "|                       | 59.04059%  | 66.70000%      | stat=8.6215  |\n",
      "+-----------------------+------------+----------------+--------------+\n",
      "| DwellTimeRatio        | M=53.296   | M=60.175       | p=0.6850     |\n",
      "|                       | Mdn=53.500 | Mdn=46.150     | stat=0.1646  |\n",
      "|                       | SD=33.728  | SD=65.380      |              |\n",
      "+-----------------------+------------+----------------+--------------+\n",
      "| AbandonmentPointRatio | M=74.755   | M=59.453       | p=0.0000     |\n",
      "|                       | Mdn=92.250 | Mdn=71.450     | stat=43.5264 |\n",
      "|                       | SD=31.397  | SD=39.278      |              |\n",
      "+-----------------------+------------+----------------+--------------+\n",
      "| Likert                | M=5.295    | M=4.871        | p=0.0002     |\n",
      "|                       | Mdn=6.000  | Mdn=5.000      | stat=14.0745 |\n",
      "|                       | SD=1.613   | SD=1.449       |              |\n",
      "|                       | (N=210)    | (N=318)        |              |\n",
      "+-----------------------+------------+----------------+--------------+\n"
     ]
    }
   ],
   "source": [
    "getStatistics(\n",
    "    [\n",
    "        \"Abandonment\",\n",
    "        \"DwellTimeRatio\",\n",
    "        \"AbandonmentPointRatio\",\n",
    "        \"Likert\",\n",
    "    ],\n",
    "    Adjusted=adjusted,\n",
    "    Non_Adjusted=Non_adjusted,\n",
    ")"
   ]
  },
  {
   "cell_type": "code",
   "execution_count": null,
   "id": "a09642d7",
   "metadata": {},
   "outputs": [],
   "source": []
  }
 ],
 "metadata": {
  "kernelspec": {
   "display_name": "py9",
   "language": "python",
   "name": "python3"
  },
  "language_info": {
   "codemirror_mode": {
    "name": "ipython",
    "version": 3
   },
   "file_extension": ".py",
   "mimetype": "text/x-python",
   "name": "python",
   "nbconvert_exporter": "python",
   "pygments_lexer": "ipython3",
   "version": "3.9.21"
  }
 },
 "nbformat": 4,
 "nbformat_minor": 5
}
